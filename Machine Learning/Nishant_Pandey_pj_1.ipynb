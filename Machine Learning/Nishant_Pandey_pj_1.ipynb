{
 "cells": [
  {
   "cell_type": "markdown",
   "metadata": {
    "id": "uns3WhxF13Hx"
   },
   "source": [
    "### Project 1: (10 points)\n",
    "#####  your total (60 points) will divided by 6 to get 10 points for this project."
   ]
  },
  {
   "cell_type": "markdown",
   "metadata": {
    "id": "QY2xCOTe13Hz"
   },
   "source": [
    "### Predicting the number of likes on Instagram using Regression Techniques\n",
    "\n",
    "One billion people use Instagram every month, which makes it one of the most popular social networks worldwide. \n",
    "Currently, there is an enormous scope market with the potential to be optimized to increase Instagram posts popularity and engagement.\n",
    "\n",
    "Ref: https://upcommons.upc.edu/bitstream/handle/2117/339937/152579.pdf?sequence=1&isAllowed=y\n"
   ]
  },
  {
   "cell_type": "markdown",
   "metadata": {
    "id": "UAOJcA4-13Hz"
   },
   "source": [
    "---\n",
    "### The Instagram Users Datetime Posts Dataset   \n",
    "We explore the Instagram Users Datetime Posts dataset, which contains info of 1089 users' posts.\n",
    "\n",
    "The dataset can estimate the number of likes/likes scores given a post based on different features such as the time and date of the post, type of the post, number of tags, numbers of comments, or how many days the post has been posted. \n",
    "\n",
    "--\n",
    "### Objective:\n",
    "#### Estimate the number of likes based on number of tags, numbers of comments, or days passed from post.\n",
    "---\n",
    "\n",
    "\n",
    "### Dataset:\n",
    "you can find the dataset on Canvas under Dataset section: Instagram_Data"
   ]
  },
  {
   "cell_type": "markdown",
   "metadata": {
    "id": "QGRL6Z8j13H0"
   },
   "source": [
    "### Steps to do:"
   ]
  },
  {
   "cell_type": "markdown",
   "metadata": {
    "id": "Kyt7LP1113H1"
   },
   "source": [
    "    1- import libraries and initialize the plotting environment using matplotlib and/or seaborn  (1 point)"
   ]
  },
  {
   "cell_type": "code",
   "execution_count": 16,
   "metadata": {
    "id": "T3dOOhdO13H1"
   },
   "outputs": [],
   "source": [
    "# write you code here\n",
    "import matplotlib.pyplot as plt\n",
    "import pandas as pd\n",
    "import numpy as np\n",
    "from sklearn.model_selection import train_test_split\n",
    "from sklearn.pipeline import make_pipeline\n",
    "from sklearn.model_selection import cross_val_score\n",
    "from sklearn.metrics import mean_squared_error\n",
    "from sklearn.linear_model import LinearRegression\n",
    "from sklearn.linear_model import Ridge\n",
    "from sklearn.linear_model import Lasso\n",
    "from sklearn.linear_model import HuberRegressor, RANSACRegressor\n",
    "\n",
    "from sklearn.model_selection import GridSearchCV\n",
    "import warnings\n",
    "\n",
    "with warnings.catch_warnings():\n",
    "  # ignore all caught warnings\n",
    "\twarnings.filterwarnings(\"ignore\")\n",
    "\n",
    "\n"
   ]
  },
  {
   "cell_type": "markdown",
   "metadata": {
    "id": "_ery0xiv13H2"
   },
   "source": [
    "    2- Loading data into Panda datafram, name it insta_df (1 point)\n",
    "        * load only the first 2000 rows using the \"nrows\" parameter\n",
    "\n",
    "#### Note: you should read just the 2000 examples of the data. \n",
    "\n",
    "Otherwise, your execution time for each command will be long since the data has 178922 samples."
   ]
  },
  {
   "cell_type": "code",
   "execution_count": 3,
   "metadata": {
    "id": "Y2Fxb6xZ13H3"
   },
   "outputs": [
    {
     "data": {
      "text/html": [
       "<div>\n",
       "<style scoped>\n",
       "    .dataframe tbody tr th:only-of-type {\n",
       "        vertical-align: middle;\n",
       "    }\n",
       "\n",
       "    .dataframe tbody tr th {\n",
       "        vertical-align: top;\n",
       "    }\n",
       "\n",
       "    .dataframe thead th {\n",
       "        text-align: right;\n",
       "    }\n",
       "</style>\n",
       "<table border=\"1\" class=\"dataframe\">\n",
       "  <thead>\n",
       "    <tr style=\"text-align: right;\">\n",
       "      <th></th>\n",
       "      <th>User uuid</th>\n",
       "      <th>Likes</th>\n",
       "      <th>Days passed from post</th>\n",
       "      <th>Likes Score</th>\n",
       "      <th>Type</th>\n",
       "      <th>Numer of Tags</th>\n",
       "      <th>Numer of Comments</th>\n",
       "      <th>Date Posted</th>\n",
       "      <th>Year</th>\n",
       "      <th>Month</th>\n",
       "      <th>Day</th>\n",
       "      <th>Hour</th>\n",
       "      <th>Minute</th>\n",
       "    </tr>\n",
       "  </thead>\n",
       "  <tbody>\n",
       "    <tr>\n",
       "      <th>0</th>\n",
       "      <td>1</td>\n",
       "      <td>506</td>\n",
       "      <td>657</td>\n",
       "      <td>0.74</td>\n",
       "      <td>Image</td>\n",
       "      <td>3</td>\n",
       "      <td>11</td>\n",
       "      <td>2019-05-12 21:18:39</td>\n",
       "      <td>2019</td>\n",
       "      <td>5</td>\n",
       "      <td>12</td>\n",
       "      <td>21</td>\n",
       "      <td>18</td>\n",
       "    </tr>\n",
       "    <tr>\n",
       "      <th>1</th>\n",
       "      <td>1</td>\n",
       "      <td>385</td>\n",
       "      <td>657</td>\n",
       "      <td>0.57</td>\n",
       "      <td>Image</td>\n",
       "      <td>0</td>\n",
       "      <td>1</td>\n",
       "      <td>2019-05-12 14:25:55</td>\n",
       "      <td>2019</td>\n",
       "      <td>5</td>\n",
       "      <td>12</td>\n",
       "      <td>14</td>\n",
       "      <td>25</td>\n",
       "    </tr>\n",
       "    <tr>\n",
       "      <th>2</th>\n",
       "      <td>1</td>\n",
       "      <td>373</td>\n",
       "      <td>666</td>\n",
       "      <td>0.55</td>\n",
       "      <td>Images</td>\n",
       "      <td>4</td>\n",
       "      <td>15</td>\n",
       "      <td>2019-05-03 15:18:37</td>\n",
       "      <td>2019</td>\n",
       "      <td>5</td>\n",
       "      <td>3</td>\n",
       "      <td>15</td>\n",
       "      <td>18</td>\n",
       "    </tr>\n",
       "    <tr>\n",
       "      <th>3</th>\n",
       "      <td>1</td>\n",
       "      <td>312</td>\n",
       "      <td>667</td>\n",
       "      <td>0.46</td>\n",
       "      <td>Images</td>\n",
       "      <td>4</td>\n",
       "      <td>1</td>\n",
       "      <td>2019-05-02 16:40:38</td>\n",
       "      <td>2019</td>\n",
       "      <td>5</td>\n",
       "      <td>2</td>\n",
       "      <td>16</td>\n",
       "      <td>40</td>\n",
       "    </tr>\n",
       "    <tr>\n",
       "      <th>4</th>\n",
       "      <td>1</td>\n",
       "      <td>513</td>\n",
       "      <td>674</td>\n",
       "      <td>0.75</td>\n",
       "      <td>Images</td>\n",
       "      <td>5</td>\n",
       "      <td>0</td>\n",
       "      <td>2019-04-25 16:51:58</td>\n",
       "      <td>2019</td>\n",
       "      <td>4</td>\n",
       "      <td>25</td>\n",
       "      <td>16</td>\n",
       "      <td>51</td>\n",
       "    </tr>\n",
       "    <tr>\n",
       "      <th>...</th>\n",
       "      <td>...</td>\n",
       "      <td>...</td>\n",
       "      <td>...</td>\n",
       "      <td>...</td>\n",
       "      <td>...</td>\n",
       "      <td>...</td>\n",
       "      <td>...</td>\n",
       "      <td>...</td>\n",
       "      <td>...</td>\n",
       "      <td>...</td>\n",
       "      <td>...</td>\n",
       "      <td>...</td>\n",
       "      <td>...</td>\n",
       "    </tr>\n",
       "    <tr>\n",
       "      <th>1995</th>\n",
       "      <td>17</td>\n",
       "      <td>58</td>\n",
       "      <td>186</td>\n",
       "      <td>0.04</td>\n",
       "      <td>Image</td>\n",
       "      <td>0</td>\n",
       "      <td>84</td>\n",
       "      <td>2020-08-25 18:09:56</td>\n",
       "      <td>2020</td>\n",
       "      <td>8</td>\n",
       "      <td>25</td>\n",
       "      <td>18</td>\n",
       "      <td>9</td>\n",
       "    </tr>\n",
       "    <tr>\n",
       "      <th>1996</th>\n",
       "      <td>17</td>\n",
       "      <td>81</td>\n",
       "      <td>193</td>\n",
       "      <td>0.06</td>\n",
       "      <td>Video</td>\n",
       "      <td>4</td>\n",
       "      <td>5</td>\n",
       "      <td>2020-08-18 02:39:23</td>\n",
       "      <td>2020</td>\n",
       "      <td>8</td>\n",
       "      <td>18</td>\n",
       "      <td>2</td>\n",
       "      <td>39</td>\n",
       "    </tr>\n",
       "    <tr>\n",
       "      <th>1997</th>\n",
       "      <td>17</td>\n",
       "      <td>251</td>\n",
       "      <td>194</td>\n",
       "      <td>0.19</td>\n",
       "      <td>Image</td>\n",
       "      <td>4</td>\n",
       "      <td>13</td>\n",
       "      <td>2020-08-17 01:17:17</td>\n",
       "      <td>2020</td>\n",
       "      <td>8</td>\n",
       "      <td>17</td>\n",
       "      <td>1</td>\n",
       "      <td>17</td>\n",
       "    </tr>\n",
       "    <tr>\n",
       "      <th>1998</th>\n",
       "      <td>17</td>\n",
       "      <td>962</td>\n",
       "      <td>197</td>\n",
       "      <td>0.72</td>\n",
       "      <td>Images</td>\n",
       "      <td>0</td>\n",
       "      <td>38</td>\n",
       "      <td>2020-08-14 18:48:13</td>\n",
       "      <td>2020</td>\n",
       "      <td>8</td>\n",
       "      <td>14</td>\n",
       "      <td>18</td>\n",
       "      <td>48</td>\n",
       "    </tr>\n",
       "    <tr>\n",
       "      <th>1999</th>\n",
       "      <td>17</td>\n",
       "      <td>179</td>\n",
       "      <td>198</td>\n",
       "      <td>0.13</td>\n",
       "      <td>Images</td>\n",
       "      <td>5</td>\n",
       "      <td>5</td>\n",
       "      <td>2020-08-13 20:05:24</td>\n",
       "      <td>2020</td>\n",
       "      <td>8</td>\n",
       "      <td>13</td>\n",
       "      <td>20</td>\n",
       "      <td>5</td>\n",
       "    </tr>\n",
       "  </tbody>\n",
       "</table>\n",
       "<p>2000 rows × 13 columns</p>\n",
       "</div>"
      ],
      "text/plain": [
       "      User uuid  Likes  Days passed from post  Likes Score    Type   \n",
       "0             1    506                    657         0.74   Image  \\\n",
       "1             1    385                    657         0.57   Image   \n",
       "2             1    373                    666         0.55  Images   \n",
       "3             1    312                    667         0.46  Images   \n",
       "4             1    513                    674         0.75  Images   \n",
       "...         ...    ...                    ...          ...     ...   \n",
       "1995         17     58                    186         0.04   Image   \n",
       "1996         17     81                    193         0.06   Video   \n",
       "1997         17    251                    194         0.19   Image   \n",
       "1998         17    962                    197         0.72  Images   \n",
       "1999         17    179                    198         0.13  Images   \n",
       "\n",
       "      Numer of Tags  Numer of Comments          Date Posted  Year  Month  Day   \n",
       "0                 3                 11  2019-05-12 21:18:39  2019      5   12  \\\n",
       "1                 0                  1  2019-05-12 14:25:55  2019      5   12   \n",
       "2                 4                 15  2019-05-03 15:18:37  2019      5    3   \n",
       "3                 4                  1  2019-05-02 16:40:38  2019      5    2   \n",
       "4                 5                  0  2019-04-25 16:51:58  2019      4   25   \n",
       "...             ...                ...                  ...   ...    ...  ...   \n",
       "1995              0                 84  2020-08-25 18:09:56  2020      8   25   \n",
       "1996              4                  5  2020-08-18 02:39:23  2020      8   18   \n",
       "1997              4                 13  2020-08-17 01:17:17  2020      8   17   \n",
       "1998              0                 38  2020-08-14 18:48:13  2020      8   14   \n",
       "1999              5                  5  2020-08-13 20:05:24  2020      8   13   \n",
       "\n",
       "      Hour  Minute  \n",
       "0       21      18  \n",
       "1       14      25  \n",
       "2       15      18  \n",
       "3       16      40  \n",
       "4       16      51  \n",
       "...    ...     ...  \n",
       "1995    18       9  \n",
       "1996     2      39  \n",
       "1997     1      17  \n",
       "1998    18      48  \n",
       "1999    20       5  \n",
       "\n",
       "[2000 rows x 13 columns]"
      ]
     },
     "execution_count": 3,
     "metadata": {},
     "output_type": "execute_result"
    }
   ],
   "source": [
    "# write you code here\n",
    "insta_df = pd.read_csv('Instagram_Data.csv', nrows=2000)\n",
    "\n",
    "##\n",
    "insta_df"
   ]
  },
  {
   "cell_type": "markdown",
   "metadata": {
    "id": "HdIufVjF13H3"
   },
   "source": [
    "    3- Show the 10 first rows of the data, its shape, and the coulmens names: (3 points)"
   ]
  },
  {
   "cell_type": "code",
   "execution_count": 6,
   "metadata": {
    "id": "rJd4Edpe13H4"
   },
   "outputs": [
    {
     "name": "stdout",
     "output_type": "stream",
     "text": [
      "   User uuid  Likes  Days passed from post  Likes Score    Type   \n",
      "0          1    506                    657         0.74   Image  \\\n",
      "1          1    385                    657         0.57   Image   \n",
      "2          1    373                    666         0.55  Images   \n",
      "3          1    312                    667         0.46  Images   \n",
      "4          1    513                    674         0.75  Images   \n",
      "5          1    539                    677         0.79  Images   \n",
      "6          1    330                    677         0.49   Image   \n",
      "7          1    472                    681         0.69  Images   \n",
      "8          1    272                    682         0.40   Image   \n",
      "9          1    304                    688         0.45  Images   \n",
      "\n",
      "   Numer of Tags  Numer of Comments          Date Posted  Year  Month  Day   \n",
      "0              3                 11  2019-05-12 21:18:39  2019      5   12  \\\n",
      "1              0                  1  2019-05-12 14:25:55  2019      5   12   \n",
      "2              4                 15  2019-05-03 15:18:37  2019      5    3   \n",
      "3              4                  1  2019-05-02 16:40:38  2019      5    2   \n",
      "4              5                  0  2019-04-25 16:51:58  2019      4   25   \n",
      "5              3                  3  2019-04-22 20:03:00  2019      4   22   \n",
      "6              0                  3  2019-04-22 15:07:34  2019      4   22   \n",
      "7              3                  7  2019-04-18 14:44:36  2019      4   18   \n",
      "8              0                  0  2019-04-17 15:42:56  2019      4   17   \n",
      "9              3                  0  2019-04-11 15:00:05  2019      4   11   \n",
      "\n",
      "   Hour  Minute  \n",
      "0    21      18  \n",
      "1    14      25  \n",
      "2    15      18  \n",
      "3    16      40  \n",
      "4    16      51  \n",
      "5    20       3  \n",
      "6    15       7  \n",
      "7    14      44  \n",
      "8    15      42  \n",
      "9    15       0  \n"
     ]
    }
   ],
   "source": [
    "# 10 first rows of the data\n",
    "print(insta_df.head(10))"
   ]
  },
  {
   "cell_type": "code",
   "execution_count": 24,
   "metadata": {
    "id": "Bm0VCUzH13H5"
   },
   "outputs": [
    {
     "name": "stdout",
     "output_type": "stream",
     "text": [
      "(2000, 12)\n"
     ]
    }
   ],
   "source": [
    "# insta_df shape\n",
    "print(insta_df.shape)"
   ]
  },
  {
   "cell_type": "code",
   "execution_count": 7,
   "metadata": {
    "id": "fwRIMmAg13H5"
   },
   "outputs": [
    {
     "name": "stdout",
     "output_type": "stream",
     "text": [
      "Index(['User uuid', 'Likes', 'Days passed from post', 'Likes Score', 'Type',\n",
      "       'Numer of Tags', 'Numer of Comments', 'Date Posted', 'Year', 'Month',\n",
      "       'Day', 'Hour', 'Minute'],\n",
      "      dtype='object')\n"
     ]
    }
   ],
   "source": [
    "# insta_df column names\n",
    "print(insta_df.columns)"
   ]
  },
  {
   "cell_type": "markdown",
   "metadata": {
    "id": "MOSwAA2Z13H5"
   },
   "source": [
    "    4- Check the number of samples in the dataset (1 point)"
   ]
  },
  {
   "cell_type": "code",
   "execution_count": 9,
   "metadata": {
    "id": "DQSRx-bh13H6"
   },
   "outputs": [
    {
     "name": "stdout",
     "output_type": "stream",
     "text": [
      "2000\n"
     ]
    }
   ],
   "source": [
    "# insta_df row numbers: \n",
    "print(insta_df.shape[0])"
   ]
  },
  {
   "cell_type": "markdown",
   "metadata": {
    "id": "vf3U6HRD13H6"
   },
   "source": [
    "    5- Check the data type of each column ( 1 point)"
   ]
  },
  {
   "cell_type": "code",
   "execution_count": 14,
   "metadata": {
    "id": "KJmc6r-113H6"
   },
   "outputs": [
    {
     "name": "stdout",
     "output_type": "stream",
     "text": [
      "User uuid                  int64\n",
      "Likes                      int64\n",
      "Days passed from post      int64\n",
      "Likes Score              float64\n",
      "Type                      object\n",
      "Numer of Tags              int64\n",
      "Numer of Comments          int64\n",
      "Date Posted               object\n",
      "Year                       int64\n",
      "Month                      int64\n",
      "Day                        int64\n",
      "Hour                       int64\n",
      "Minute                     int64\n",
      "dtype: object\n"
     ]
    }
   ],
   "source": [
    "# Print datatypes\n",
    "print(insta_df.dtypes)"
   ]
  },
  {
   "cell_type": "markdown",
   "metadata": {
    "id": "-jziyg2J13H7"
   },
   "source": [
    "    6- Remove columns from the dataframe:\n",
    "\n",
    "        a. Remove user id from the insta_df as there is no useful information from this column. (1 point)\n",
    "\n",
    "        b. Remove the Likes Score since it is calculated from the number of likes. (1 point)\n",
    "\n",
    "        c. Remove the date and time columns from the data frame since our goal is not to consider the posted date and time related to the number of likes (2 points) "
   ]
  },
  {
   "cell_type": "code",
   "execution_count": 4,
   "metadata": {
    "id": "p_PO2lT_13H7"
   },
   "outputs": [
    {
     "name": "stdout",
     "output_type": "stream",
     "text": [
      "   Likes  Days passed from post    Type  Numer of Tags  Numer of Comments\n",
      "0    506                    657   Image              3                 11\n",
      "1    385                    657   Image              0                  1\n",
      "2    373                    666  Images              4                 15\n",
      "3    312                    667  Images              4                  1\n",
      "4    513                    674  Images              5                  0\n"
     ]
    }
   ],
   "source": [
    "# Remove User uuid\n",
    "del insta_df['User uuid']\n",
    "\n",
    "# Remove User Likes Score\n",
    "del insta_df['Likes Score']\n",
    "\n",
    "# Remove the date and time columns\n",
    "rem = ['date posted','year', 'month', 'day', 'hour', 'minute']\n",
    "insta_df.drop(columns=[col for col in insta_df.columns if col.lower() in rem], inplace=True)\n",
    "\n",
    "# show the insta_df after you remove the required columns\n",
    "print(insta_df.head())"
   ]
  },
  {
   "cell_type": "markdown",
   "metadata": {
    "id": "zr-WQ_8b13H7"
   },
   "source": [
    "    7- Check how many unique values are on the \"Type\" column. ( 1 point)\n",
    "        * you can use the unique() function if you wish"
   ]
  },
  {
   "cell_type": "code",
   "execution_count": 5,
   "metadata": {
    "id": "p_IR9pYW13H7"
   },
   "outputs": [
    {
     "name": "stdout",
     "output_type": "stream",
     "text": [
      "['Image' 'Images' 'Video']\n"
     ]
    }
   ],
   "source": [
    "# write you code here\n",
    "print(insta_df['Type'].unique())"
   ]
  },
  {
   "cell_type": "markdown",
   "metadata": {
    "id": "b_tbkz3M13H8"
   },
   "source": [
    "    8- Use label encoder to change the \"Type\" coulmn values to numeric values (2 point)"
   ]
  },
  {
   "cell_type": "code",
   "execution_count": 6,
   "metadata": {
    "id": "HiS5AybO13H8"
   },
   "outputs": [
    {
     "data": {
      "text/html": [
       "<div>\n",
       "<style scoped>\n",
       "    .dataframe tbody tr th:only-of-type {\n",
       "        vertical-align: middle;\n",
       "    }\n",
       "\n",
       "    .dataframe tbody tr th {\n",
       "        vertical-align: top;\n",
       "    }\n",
       "\n",
       "    .dataframe thead th {\n",
       "        text-align: right;\n",
       "    }\n",
       "</style>\n",
       "<table border=\"1\" class=\"dataframe\">\n",
       "  <thead>\n",
       "    <tr style=\"text-align: right;\">\n",
       "      <th></th>\n",
       "      <th>Likes</th>\n",
       "      <th>Days passed from post</th>\n",
       "      <th>Type</th>\n",
       "      <th>Numer of Tags</th>\n",
       "      <th>Numer of Comments</th>\n",
       "    </tr>\n",
       "  </thead>\n",
       "  <tbody>\n",
       "    <tr>\n",
       "      <th>0</th>\n",
       "      <td>506</td>\n",
       "      <td>657</td>\n",
       "      <td>0</td>\n",
       "      <td>3</td>\n",
       "      <td>11</td>\n",
       "    </tr>\n",
       "    <tr>\n",
       "      <th>1</th>\n",
       "      <td>385</td>\n",
       "      <td>657</td>\n",
       "      <td>0</td>\n",
       "      <td>0</td>\n",
       "      <td>1</td>\n",
       "    </tr>\n",
       "    <tr>\n",
       "      <th>2</th>\n",
       "      <td>373</td>\n",
       "      <td>666</td>\n",
       "      <td>1</td>\n",
       "      <td>4</td>\n",
       "      <td>15</td>\n",
       "    </tr>\n",
       "    <tr>\n",
       "      <th>3</th>\n",
       "      <td>312</td>\n",
       "      <td>667</td>\n",
       "      <td>1</td>\n",
       "      <td>4</td>\n",
       "      <td>1</td>\n",
       "    </tr>\n",
       "    <tr>\n",
       "      <th>4</th>\n",
       "      <td>513</td>\n",
       "      <td>674</td>\n",
       "      <td>1</td>\n",
       "      <td>5</td>\n",
       "      <td>0</td>\n",
       "    </tr>\n",
       "    <tr>\n",
       "      <th>...</th>\n",
       "      <td>...</td>\n",
       "      <td>...</td>\n",
       "      <td>...</td>\n",
       "      <td>...</td>\n",
       "      <td>...</td>\n",
       "    </tr>\n",
       "    <tr>\n",
       "      <th>1995</th>\n",
       "      <td>58</td>\n",
       "      <td>186</td>\n",
       "      <td>0</td>\n",
       "      <td>0</td>\n",
       "      <td>84</td>\n",
       "    </tr>\n",
       "    <tr>\n",
       "      <th>1996</th>\n",
       "      <td>81</td>\n",
       "      <td>193</td>\n",
       "      <td>2</td>\n",
       "      <td>4</td>\n",
       "      <td>5</td>\n",
       "    </tr>\n",
       "    <tr>\n",
       "      <th>1997</th>\n",
       "      <td>251</td>\n",
       "      <td>194</td>\n",
       "      <td>0</td>\n",
       "      <td>4</td>\n",
       "      <td>13</td>\n",
       "    </tr>\n",
       "    <tr>\n",
       "      <th>1998</th>\n",
       "      <td>962</td>\n",
       "      <td>197</td>\n",
       "      <td>1</td>\n",
       "      <td>0</td>\n",
       "      <td>38</td>\n",
       "    </tr>\n",
       "    <tr>\n",
       "      <th>1999</th>\n",
       "      <td>179</td>\n",
       "      <td>198</td>\n",
       "      <td>1</td>\n",
       "      <td>5</td>\n",
       "      <td>5</td>\n",
       "    </tr>\n",
       "  </tbody>\n",
       "</table>\n",
       "<p>2000 rows × 5 columns</p>\n",
       "</div>"
      ],
      "text/plain": [
       "      Likes  Days passed from post  Type  Numer of Tags  Numer of Comments\n",
       "0       506                    657     0              3                 11\n",
       "1       385                    657     0              0                  1\n",
       "2       373                    666     1              4                 15\n",
       "3       312                    667     1              4                  1\n",
       "4       513                    674     1              5                  0\n",
       "...     ...                    ...   ...            ...                ...\n",
       "1995     58                    186     0              0                 84\n",
       "1996     81                    193     2              4                  5\n",
       "1997    251                    194     0              4                 13\n",
       "1998    962                    197     1              0                 38\n",
       "1999    179                    198     1              5                  5\n",
       "\n",
       "[2000 rows x 5 columns]"
      ]
     },
     "execution_count": 6,
     "metadata": {},
     "output_type": "execute_result"
    }
   ],
   "source": [
    "# Encode \"Type\"\n",
    "from sklearn.preprocessing import LabelEncoder\n",
    "encoder = LabelEncoder()\n",
    "insta_df['Type'] = encoder.fit_transform(insta_df['Type'])\n",
    "\n",
    "##\n",
    "insta_df"
   ]
  },
  {
   "cell_type": "markdown",
   "metadata": {
    "id": "y610V4t-13H8"
   },
   "source": [
    "    9- Check how many NaN values are in each column: \n",
    "\n",
    "        a. How many NaNs as total ( 1 point)\n",
    "\n",
    "        b. How many NaNs as a percentage of overall data ( 1 point)"
   ]
  },
  {
   "cell_type": "code",
   "execution_count": 14,
   "metadata": {
    "id": "eoIl5u3z13H8"
   },
   "outputs": [
    {
     "data": {
      "text/plain": [
       "Likes                    0\n",
       "Days passed from post    0\n",
       "Type                     0\n",
       "Numer of Tags            0\n",
       "Numer of Comments        0\n",
       "dtype: int64"
      ]
     },
     "execution_count": 14,
     "metadata": {},
     "output_type": "execute_result"
    }
   ],
   "source": [
    "# a. How many NaNs as total\n",
    "insta_df.isnull().sum()"
   ]
  },
  {
   "cell_type": "code",
   "execution_count": 15,
   "metadata": {
    "id": "2mZ86GSW13H9"
   },
   "outputs": [
    {
     "data": {
      "text/plain": [
       "Likes                    0.0\n",
       "Days passed from post    0.0\n",
       "Type                     0.0\n",
       "Numer of Tags            0.0\n",
       "Numer of Comments        0.0\n",
       "dtype: float64"
      ]
     },
     "execution_count": 15,
     "metadata": {},
     "output_type": "execute_result"
    }
   ],
   "source": [
    "# b. How many NaNs as a percentage of overall data\n",
    "insta_df.isnull().sum() / len(insta_df) * 100"
   ]
  },
  {
   "cell_type": "markdown",
   "metadata": {
    "id": "jteaLpCY13H9"
   },
   "source": [
    "    10- Divide the data into features (X), and target (y) --> your target is Likes  (2 points)"
   ]
  },
  {
   "cell_type": "code",
   "execution_count": 9,
   "metadata": {
    "id": "J3f1Vs8f13H9"
   },
   "outputs": [
    {
     "data": {
      "text/html": [
       "<div>\n",
       "<style scoped>\n",
       "    .dataframe tbody tr th:only-of-type {\n",
       "        vertical-align: middle;\n",
       "    }\n",
       "\n",
       "    .dataframe tbody tr th {\n",
       "        vertical-align: top;\n",
       "    }\n",
       "\n",
       "    .dataframe thead th {\n",
       "        text-align: right;\n",
       "    }\n",
       "</style>\n",
       "<table border=\"1\" class=\"dataframe\">\n",
       "  <thead>\n",
       "    <tr style=\"text-align: right;\">\n",
       "      <th></th>\n",
       "      <th>Days passed from post</th>\n",
       "      <th>Type</th>\n",
       "      <th>Numer of Tags</th>\n",
       "      <th>Numer of Comments</th>\n",
       "    </tr>\n",
       "  </thead>\n",
       "  <tbody>\n",
       "    <tr>\n",
       "      <th>0</th>\n",
       "      <td>657</td>\n",
       "      <td>0</td>\n",
       "      <td>3</td>\n",
       "      <td>11</td>\n",
       "    </tr>\n",
       "    <tr>\n",
       "      <th>1</th>\n",
       "      <td>657</td>\n",
       "      <td>0</td>\n",
       "      <td>0</td>\n",
       "      <td>1</td>\n",
       "    </tr>\n",
       "    <tr>\n",
       "      <th>2</th>\n",
       "      <td>666</td>\n",
       "      <td>1</td>\n",
       "      <td>4</td>\n",
       "      <td>15</td>\n",
       "    </tr>\n",
       "    <tr>\n",
       "      <th>3</th>\n",
       "      <td>667</td>\n",
       "      <td>1</td>\n",
       "      <td>4</td>\n",
       "      <td>1</td>\n",
       "    </tr>\n",
       "    <tr>\n",
       "      <th>4</th>\n",
       "      <td>674</td>\n",
       "      <td>1</td>\n",
       "      <td>5</td>\n",
       "      <td>0</td>\n",
       "    </tr>\n",
       "    <tr>\n",
       "      <th>...</th>\n",
       "      <td>...</td>\n",
       "      <td>...</td>\n",
       "      <td>...</td>\n",
       "      <td>...</td>\n",
       "    </tr>\n",
       "    <tr>\n",
       "      <th>1995</th>\n",
       "      <td>186</td>\n",
       "      <td>0</td>\n",
       "      <td>0</td>\n",
       "      <td>84</td>\n",
       "    </tr>\n",
       "    <tr>\n",
       "      <th>1996</th>\n",
       "      <td>193</td>\n",
       "      <td>2</td>\n",
       "      <td>4</td>\n",
       "      <td>5</td>\n",
       "    </tr>\n",
       "    <tr>\n",
       "      <th>1997</th>\n",
       "      <td>194</td>\n",
       "      <td>0</td>\n",
       "      <td>4</td>\n",
       "      <td>13</td>\n",
       "    </tr>\n",
       "    <tr>\n",
       "      <th>1998</th>\n",
       "      <td>197</td>\n",
       "      <td>1</td>\n",
       "      <td>0</td>\n",
       "      <td>38</td>\n",
       "    </tr>\n",
       "    <tr>\n",
       "      <th>1999</th>\n",
       "      <td>198</td>\n",
       "      <td>1</td>\n",
       "      <td>5</td>\n",
       "      <td>5</td>\n",
       "    </tr>\n",
       "  </tbody>\n",
       "</table>\n",
       "<p>2000 rows × 4 columns</p>\n",
       "</div>"
      ],
      "text/plain": [
       "      Days passed from post  Type  Numer of Tags  Numer of Comments\n",
       "0                       657     0              3                 11\n",
       "1                       657     0              0                  1\n",
       "2                       666     1              4                 15\n",
       "3                       667     1              4                  1\n",
       "4                       674     1              5                  0\n",
       "...                     ...   ...            ...                ...\n",
       "1995                    186     0              0                 84\n",
       "1996                    193     2              4                  5\n",
       "1997                    194     0              4                 13\n",
       "1998                    197     1              0                 38\n",
       "1999                    198     1              5                  5\n",
       "\n",
       "[2000 rows x 4 columns]"
      ]
     },
     "execution_count": 9,
     "metadata": {},
     "output_type": "execute_result"
    }
   ],
   "source": [
    "# your featuers X:\n",
    "X = insta_df.loc[:, insta_df.columns != 'Likes']\n",
    "##\n",
    "X"
   ]
  },
  {
   "cell_type": "code",
   "execution_count": 10,
   "metadata": {
    "id": "o0OnXQPR13H9"
   },
   "outputs": [
    {
     "data": {
      "text/plain": [
       "0       506\n",
       "1       385\n",
       "2       373\n",
       "3       312\n",
       "4       513\n",
       "       ... \n",
       "1995     58\n",
       "1996     81\n",
       "1997    251\n",
       "1998    962\n",
       "1999    179\n",
       "Name: Likes, Length: 2000, dtype: int64"
      ]
     },
     "execution_count": 10,
     "metadata": {},
     "output_type": "execute_result"
    }
   ],
   "source": [
    "# your target y:\n",
    "y = insta_df.loc[:,'Likes']\n",
    "\n",
    "##\n",
    "y"
   ]
  },
  {
   "cell_type": "markdown",
   "metadata": {
    "id": "6zbuc5FU13H9"
   },
   "source": [
    "    11- Checking for Multicollinearity for features (X) using a correlation matrix. (1 points)"
   ]
  },
  {
   "cell_type": "code",
   "execution_count": 18,
   "metadata": {
    "id": "AuIqmwnw13H-"
   },
   "outputs": [
    {
     "name": "stdout",
     "output_type": "stream",
     "text": [
      "                       Days passed from post      Type  Numer of Tags   \n",
      "Days passed from post               1.000000 -0.146155      -0.170063  \\\n",
      "Type                               -0.146155  1.000000      -0.013724   \n",
      "Numer of Tags                      -0.170063 -0.013724       1.000000   \n",
      "Numer of Comments                  -0.115434  0.002244       0.053189   \n",
      "\n",
      "                       Numer of Comments  \n",
      "Days passed from post          -0.115434  \n",
      "Type                            0.002244  \n",
      "Numer of Tags                   0.053189  \n",
      "Numer of Comments               1.000000  \n"
     ]
    }
   ],
   "source": [
    "# write your code here:\n",
    "print(X.corr())"
   ]
  },
  {
   "cell_type": "markdown",
   "metadata": {
    "id": "1rUf45QJ13H-"
   },
   "source": [
    "    12- From the above pairplot, what did you observe? ( 1 points)\n",
    "\n",
    "##### Write your answer here:\n",
    "\n",
    "--\n",
    "From the above matrix, we can see that \"Days passed from post\" has a negative correlation with other features implying the more days pass between each post the less the number of tags/comments the post gets\n",
    "\n",
    "--"
   ]
  },
  {
   "cell_type": "markdown",
   "metadata": {
    "id": "OexfiW2g13H-"
   },
   "source": [
    "    13- Use a scatter plot to check each feature's relationship with the target variable, Likes. (1 points)"
   ]
  },
  {
   "cell_type": "code",
   "execution_count": 19,
   "metadata": {
    "id": "4ML8vFoo13H-"
   },
   "outputs": [
    {
     "data": {
      "image/png": "[encoded data removed]",
      "text/plain": [
       "<Figure size 2500x1500 with 4 Axes>"
      ]
     },
     "metadata": {},
     "output_type": "display_data"
    }
   ],
   "source": [
    "# write your code here\n",
    "plt.figure(figsize = ( 25 , 15 )) \n",
    "features = list (X) \n",
    "for i, col in enumerate (features): \n",
    "    plt.subplot(3 , 6 ,i +1 ) \n",
    "    x = insta_df[col] \n",
    "    y = y \n",
    "    plt.scatter(x, y, marker = 'o' )\n",
    "    plt.xlabel(col) \n",
    "    plt.ylabel( 'Likes' )"
   ]
  },
  {
   "cell_type": "markdown",
   "metadata": {
    "id": "gv51MgdM13H-"
   },
   "source": [
    "    14- From the above pairplot, what did you observe? ( 1 points)\n",
    "\n",
    "\n",
    "##### Write your answer here:\n",
    "\n",
    "--\n",
    "1) You get more likes if you post frequently.\n",
    "2) Image>Images>Videos tend to generate more likes in that order.\n",
    "3) 30 is the magic number of tags to get the most amount of likes.\n",
    "4) Number of comments is directly proportional to likes.\n",
    "\n",
    "--"
   ]
  },
  {
   "cell_type": "markdown",
   "metadata": {
    "id": "sEqOlvu_13H-"
   },
   "source": [
    "    15- Display the target distribution using histogram (1 points)"
   ]
  },
  {
   "cell_type": "code",
   "execution_count": 20,
   "metadata": {
    "id": "YTfPCGV713H-"
   },
   "outputs": [
    {
     "data": {
      "image/png": "[encoded data removed]",
      "text/plain": [
       "<Figure size 640x480 with 1 Axes>"
      ]
     },
     "metadata": {},
     "output_type": "display_data"
    }
   ],
   "source": [
    "# write your code here:\n",
    "plt.hist(y, bins='auto')\n",
    "plt.show()"
   ]
  },
  {
   "cell_type": "markdown",
   "metadata": {
    "id": "LsU1sL0r13H_"
   },
   "source": [
    "    16- From the above histogram, what did you observe about the target distribution? ( 1 point)\n",
    "    \n",
    "\n",
    "##### Write your answer here:\n",
    "\n",
    "-- This plot shows the amount of likes for each post, showing that only 1 post has 500 likes. Only 3 posts have more than 200 likes and so on.\n",
    "\n",
    "\n",
    "--"
   ]
  },
  {
   "cell_type": "markdown",
   "metadata": {
    "id": "SwQC-LFV13H_"
   },
   "source": [
    "    17-Transfer the target y into log to have the normal distributions: (1 point)"
   ]
  },
  {
   "cell_type": "code",
   "execution_count": 21,
   "metadata": {
    "id": "37uNhh_a13H_"
   },
   "outputs": [
    {
     "data": {
      "image/png": "[encoded data removed]",
      "text/plain": [
       "<Figure size 640x480 with 1 Axes>"
      ]
     },
     "metadata": {},
     "output_type": "display_data"
    }
   ],
   "source": [
    "import numpy as np\n",
    "transformed_y = np.log(y)\n",
    "plt.hist(transformed_y, bins='auto')\n",
    "plt.show()"
   ]
  },
  {
   "cell_type": "markdown",
   "metadata": {
    "id": "Uzzc9lR013H_"
   },
   "source": [
    "### Preparing the machine learning pipeline\n"
   ]
  },
  {
   "cell_type": "markdown",
   "metadata": {
    "id": "X8fzxpWL13H_"
   },
   "source": [
    "    18- Splitting the data into training 80% and testing sets 20%. (1 point)\n",
    "        * print the sizes of our training and test set to verify if the splitting has occurred properly. (1 point)"
   ]
  },
  {
   "cell_type": "code",
   "execution_count": 11,
   "metadata": {
    "id": "Bc1YDei813H_"
   },
   "outputs": [
    {
     "name": "stdout",
     "output_type": "stream",
     "text": [
      "(1600, 4)\n",
      "(400, 4)\n",
      "(1600,)\n",
      "(400,)\n"
     ]
    }
   ],
   "source": [
    "# Splitting the data:\n",
    "X_train, X_test, y_train, y_test = train_test_split(X, y, test_size = 0.2, random_state=42)\n",
    "\n",
    "# print the sizes of our training and test set:\n",
    "print(X_train.shape)\n",
    "print(X_test.shape)\n",
    "print(y_train.shape)\n",
    "print(y_test.shape)"
   ]
  },
  {
   "cell_type": "markdown",
   "metadata": {
    "id": "FZe1eoav13IA"
   },
   "source": [
    "    19- Use Pipeline class with the cross-validation to fit the scaling on only the training dataset and evaluate the linear regression model, (Use k=10 and MSE as your metric)( 2 point)\n",
    "\n",
    "        * 'neg_mean_squared_error' returns the negated value of the MSE; make sure to take the absolute to get the positive one (1 point)\n",
    "        * print the average MSE (1 point)"
   ]
  },
  {
   "cell_type": "code",
   "execution_count": 33,
   "metadata": {
    "id": "ubV5evkp13IA"
   },
   "outputs": [
    {
     "name": "stdout",
     "output_type": "stream",
     "text": [
      "Average 10-Fold CV R2 Score: 0.2537024335283243\n",
      "Average 10-Fold CV MSE Score: 374088.1102253831\n"
     ]
    }
   ],
   "source": [
    "# writer your code here:\n",
    "pipeline = make_pipeline(StandardScaler(), LinearRegression())\n",
    "scores_pipe_1 = cross_val_score(pipeline, X_train, y_train,cv=10)\n",
    "print(\"Average 10-Fold CV R2 Score: {}\".format((np.mean(scores_pipe_1)) ))\n",
    "scores_pipe_2 = cross_val_score(pipeline, X_train, y_train,cv=10, scoring='neg_mean_squared_error') # this return the negated value of the MSE, make sure to multiply it by -1 to get the positive one\n",
    "print(\"Average 10-Fold CV MSE Score: {}\".format(-1*(np.mean(scores_pipe_2)) ))"
   ]
  },
  {
   "cell_type": "markdown",
   "metadata": {
    "id": "b73aw1qi13IA"
   },
   "source": [
    "    20- Hyperparameters tuning using GridSearchCV (Use k=10 and MSE as your metric):\n",
    "\n",
    "        A. Ridge regression:\n",
    "            * Find out the best value of α’s (-3, -2, 1, 2, 3) for Ridge regression (1 point)\n",
    "            * print the best score and the best alpha value (1 point)"
   ]
  },
  {
   "cell_type": "code",
   "execution_count": 30,
   "metadata": {
    "id": "1XaXrcE113IA"
   },
   "outputs": [
    {
     "name": "stdout",
     "output_type": "stream",
     "text": [
      "Best alpha: 3\n",
      "Best score: 374085.7715973538\n"
     ]
    }
   ],
   "source": [
    "# write your code here:\n",
    "with warnings.catch_warnings():\n",
    "    # ignore all caught warnings\n",
    "    warnings.filterwarnings(\"ignore\")\n",
    "    ridge = Ridge()\n",
    "    grid_search = GridSearchCV(estimator=ridge, param_grid = {'alpha': [-3, -2, 1, 2, 3]}, cv=10, scoring='neg_mean_squared_error')\n",
    "    grid_search.fit(X_train, y_train)\n",
    "\n",
    "    best_alpha = grid_search.best_params_['alpha']\n",
    "    best_score = grid_search.best_score_\n",
    "\n",
    "    print(\"Best alpha:\", best_alpha)\n",
    "    print(\"Best score:\", -best_score)"
   ]
  },
  {
   "cell_type": "markdown",
   "metadata": {
    "id": "1rRFGs3a13IA"
   },
   "source": [
    "        B. Lasso: \n",
    "            * Find out the best value of α’s (-3, -2, 1, 2, 3) for Lasso method. (1 point)\n",
    "            * print the best score and the best alpha value (1 point)"
   ]
  },
  {
   "cell_type": "code",
   "execution_count": 32,
   "metadata": {
    "id": "aofLi-aq13IB"
   },
   "outputs": [
    {
     "name": "stdout",
     "output_type": "stream",
     "text": [
      "Best alpha: 2\n",
      "Best score: 374076.56790576177\n"
     ]
    }
   ],
   "source": [
    "# write your code here:\n",
    "with warnings.catch_warnings():\n",
    "    # ignore all caught warnings\n",
    "    warnings.filterwarnings(\"ignore\")\n",
    "    lasso = Lasso()\n",
    "    grid_search = GridSearchCV(lasso, param_grid={'alpha':[-3, -2, 1, 2, 3]}, cv=10, scoring='neg_mean_squared_error')\n",
    "    grid_search.fit(X_train, y_train)\n",
    "\n",
    "    best_alpha = grid_search.best_params_['alpha']\n",
    "    best_score = grid_search.best_score_\n",
    "\n",
    "    print(\"Best alpha:\", best_alpha)\n",
    "    print(\"Best score:\", -best_score)"
   ]
  },
  {
   "cell_type": "markdown",
   "metadata": {
    "id": "ga1vBFZU13IB"
   },
   "source": [
    "#### Robust regression"
   ]
  },
  {
   "cell_type": "markdown",
   "metadata": {
    "id": "F_e8kUGW13IB"
   },
   "source": [
    "      21- Use Pipeline class with the cross-validation with k= 10 to fit the scaling on only the training dataset, and evaluate the models using 'neg_mean_squared_error':\n",
    "    \n",
    "            A.  The Huber regression model module ( 1 points)\n",
    "                * print the absolute average MSE (1 point)"
   ]
  },
  {
   "cell_type": "code",
   "execution_count": 42,
   "metadata": {
    "id": "NAXOVc_Q13IB"
   },
   "outputs": [
    {
     "name": "stdout",
     "output_type": "stream",
     "text": [
      "Absolute Average MSE: 430540.55640044855\n"
     ]
    }
   ],
   "source": [
    "# write your code here:\n",
    "pipeline = make_pipeline(HuberRegressor(max_iter=X.shape[0]))\n",
    "mse_scores = -cross_val_score(pipeline, X_train, y_train, cv=10, scoring='neg_mean_squared_error')\n",
    "avg_mse = mse_scores.mean()\n",
    "print(\"Absolute Average MSE:\", avg_mse)"
   ]
  },
  {
   "cell_type": "markdown",
   "metadata": {
    "id": "By5bWePS13IB"
   },
   "source": [
    "        B.  The RANSAC regression model modle ( 1 point)\n",
    "            * print the absolute avarge MSE (1 point)"
   ]
  },
  {
   "cell_type": "code",
   "execution_count": 26,
   "metadata": {
    "id": "VWyKds4g13IB"
   },
   "outputs": [
    {
     "name": "stdout",
     "output_type": "stream",
     "text": [
      "Absolute Average MSE: 515520.50818867097\n"
     ]
    }
   ],
   "source": [
    "# write your code here:\n",
    "pipeline = make_pipeline(RANSACRegressor())\n",
    "mse_scores = -cross_val_score(pipeline, X_train, y_train, cv=10, scoring='neg_mean_squared_error')\n",
    "avg_mse = mse_scores.mean()\n",
    "print(\"Absolute Average MSE:\", avg_mse)"
   ]
  },
  {
   "cell_type": "markdown",
   "metadata": {
    "id": "UpBaoPEl13IB"
   },
   "source": [
    "    22- From the above models you validated using cross-validation, which model performed very well on average? (1 point)         \n",
    "\n",
    "##### Write your answer here:\n",
    "\n",
    "-- From the cross-validation scores on average, Lasso regression had the best score\n",
    "\n",
    "\n",
    "\n",
    "--"
   ]
  },
  {
   "cell_type": "markdown",
   "metadata": {
    "id": "LsyZOP3R13IC"
   },
   "source": [
    "    23- Use the Best model to build/fit your final model using your train-data.(5 points)"
   ]
  },
  {
   "cell_type": "code",
   "execution_count": 34,
   "metadata": {
    "id": "ayCJZr-n13IC"
   },
   "outputs": [
    {
     "data": {
      "text/html": [
       "<style>#sk-container-id-1 {color: black;background-color: white;}#sk-container-id-1 pre{padding: 0;}#sk-container-id-1 div.sk-toggleable {background-color: white;}#sk-container-id-1 label.sk-toggleable__label {cursor: pointer;display: block;width: 100%;margin-bottom: 0;padding: 0.3em;box-sizing: border-box;text-align: center;}#sk-container-id-1 label.sk-toggleable__label-arrow:before {content: \"▸\";float: left;margin-right: 0.25em;color: #696969;}#sk-container-id-1 label.sk-toggleable__label-arrow:hover:before {color: black;}#sk-container-id-1 div.sk-estimator:hover label.sk-toggleable__label-arrow:before {color: black;}#sk-container-id-1 div.sk-toggleable__content {max-height: 0;max-width: 0;overflow: hidden;text-align: left;background-color: #f0f8ff;}#sk-container-id-1 div.sk-toggleable__content pre {margin: 0.2em;color: black;border-radius: 0.25em;background-color: #f0f8ff;}#sk-container-id-1 input.sk-toggleable__control:checked~div.sk-toggleable__content {max-height: 200px;max-width: 100%;overflow: auto;}#sk-container-id-1 input.sk-toggleable__control:checked~label.sk-toggleable__label-arrow:before {content: \"▾\";}#sk-container-id-1 div.sk-estimator input.sk-toggleable__control:checked~label.sk-toggleable__label {background-color: #d4ebff;}#sk-container-id-1 div.sk-label input.sk-toggleable__control:checked~label.sk-toggleable__label {background-color: #d4ebff;}#sk-container-id-1 input.sk-hidden--visually {border: 0;clip: rect(1px 1px 1px 1px);clip: rect(1px, 1px, 1px, 1px);height: 1px;margin: -1px;overflow: hidden;padding: 0;position: absolute;width: 1px;}#sk-container-id-1 div.sk-estimator {font-family: monospace;background-color: #f0f8ff;border: 1px dotted black;border-radius: 0.25em;box-sizing: border-box;margin-bottom: 0.5em;}#sk-container-id-1 div.sk-estimator:hover {background-color: #d4ebff;}#sk-container-id-1 div.sk-parallel-item::after {content: \"\";width: 100%;border-bottom: 1px solid gray;flex-grow: 1;}#sk-container-id-1 div.sk-label:hover label.sk-toggleable__label {background-color: #d4ebff;}#sk-container-id-1 div.sk-serial::before {content: \"\";position: absolute;border-left: 1px solid gray;box-sizing: border-box;top: 0;bottom: 0;left: 50%;z-index: 0;}#sk-container-id-1 div.sk-serial {display: flex;flex-direction: column;align-items: center;background-color: white;padding-right: 0.2em;padding-left: 0.2em;position: relative;}#sk-container-id-1 div.sk-item {position: relative;z-index: 1;}#sk-container-id-1 div.sk-parallel {display: flex;align-items: stretch;justify-content: center;background-color: white;position: relative;}#sk-container-id-1 div.sk-item::before, #sk-container-id-1 div.sk-parallel-item::before {content: \"\";position: absolute;border-left: 1px solid gray;box-sizing: border-box;top: 0;bottom: 0;left: 50%;z-index: -1;}#sk-container-id-1 div.sk-parallel-item {display: flex;flex-direction: column;z-index: 1;position: relative;background-color: white;}#sk-container-id-1 div.sk-parallel-item:first-child::after {align-self: flex-end;width: 50%;}#sk-container-id-1 div.sk-parallel-item:last-child::after {align-self: flex-start;width: 50%;}#sk-container-id-1 div.sk-parallel-item:only-child::after {width: 0;}#sk-container-id-1 div.sk-dashed-wrapped {border: 1px dashed gray;margin: 0 0.4em 0.5em 0.4em;box-sizing: border-box;padding-bottom: 0.4em;background-color: white;}#sk-container-id-1 div.sk-label label {font-family: monospace;font-weight: bold;display: inline-block;line-height: 1.2em;}#sk-container-id-1 div.sk-label-container {text-align: center;}#sk-container-id-1 div.sk-container {/* jupyter's `normalize.less` sets `[hidden] { display: none; }` but bootstrap.min.css set `[hidden] { display: none !important; }` so we also need the `!important` here to be able to override the default hidden behavior on the sphinx rendered scikit-learn.org. See: https://github.com/scikit-learn/scikit-learn/issues/21755 */display: inline-block !important;position: relative;}#sk-container-id-1 div.sk-text-repr-fallback {display: none;}</style><div id=\"sk-container-id-1\" class=\"sk-top-container\"><div class=\"sk-text-repr-fallback\"><pre>Lasso(alpha=2)</pre><b>In a Jupyter environment, please rerun this cell to show the HTML representation or trust the notebook. <br />On GitHub, the HTML representation is unable to render, please try loading this page with nbviewer.org.</b></div><div class=\"sk-container\" hidden><div class=\"sk-item\"><div class=\"sk-estimator sk-toggleable\"><input class=\"sk-toggleable__control sk-hidden--visually\" id=\"sk-estimator-id-1\" type=\"checkbox\" checked><label for=\"sk-estimator-id-1\" class=\"sk-toggleable__label sk-toggleable__label-arrow\">Lasso</label><div class=\"sk-toggleable__content\"><pre>Lasso(alpha=2)</pre></div></div></div></div></div>"
      ],
      "text/plain": [
       "Lasso(alpha=2)"
      ]
     },
     "execution_count": 34,
     "metadata": {},
     "output_type": "execute_result"
    }
   ],
   "source": [
    "# write your code here:\n",
    "scaler = StandardScaler()\n",
    "X_train_scaled = scaler.fit_transform(X_train)\n",
    "X_test_scaled = scaler.transform(X_test)\n",
    "lasso = Lasso(alpha=2)\n",
    "lasso.fit(X_train_scaled, y_train)\n"
   ]
  },
  {
   "cell_type": "markdown",
   "metadata": {
    "id": "LcOs3djI13IC"
   },
   "source": [
    "    24- Predict the number of likes for test data and compute the MSE (5 points)"
   ]
  },
  {
   "cell_type": "code",
   "execution_count": 41,
   "metadata": {
    "id": "xxs-tNOr13IC"
   },
   "outputs": [
    {
     "name": "stdout",
     "output_type": "stream",
     "text": [
      "Mean Squared Error: 181696.15355025427\n"
     ]
    }
   ],
   "source": [
    "# write your code here:\n",
    "y_pred = lasso.predict(X_test_scaled)\n",
    "mse = mean_squared_error(y_test, y_pred)\n",
    "print(\"Mean Squared Error:\", mse)"
   ]
  },
  {
   "cell_type": "markdown",
   "metadata": {
    "id": "bFQ5dyIR13IC"
   },
   "source": [
    "    25- Write a conclusion about building a good model for predicting the number of likes using Instagram Users Datetime Posts. (10 points)\n",
    "\n",
    "       your conclusion should include: \n",
    "        * why a specific model performs better than other models and why a regression algorithm works well with this dataset.\n",
    "        * Did Robust regression algorithms outperformance the linear regression baseline or linear regression after applying Shrinkage Methods? Why?\n",
    "\n",
    "    Write a summary of what you understand about linear regression and cross-validation. "
   ]
  },
  {
   "cell_type": "markdown",
   "metadata": {
    "id": "RcEWfFvz13IC"
   },
   "source": [
    "--\n",
    "1) Lasso regression performs very will for this model, because of multicollinearity being present in the dataset, and the small number of present variables after every variable related to data/time was removed from the dataset\n",
    "\n",
    "2) Looking at the MSE scores for linear regression versus Robust regressions, the linear regression performed better for this model. It could be because minimal number of outliers or normal distribution of the dataset\n",
    "\n",
    "3) linear regression provides a method to model relationships between variables, The goal is to find the best-fitting line or hyperplane that minimizes the difference between the observed data points and the predicted values.\n",
    "\n",
    "    while cross-validation is a technique to assess and validate the performance of a predictive model. Together, they contribute to building reliable and accurate regression models for a wide range of applications.\n",
    "\n",
    "--"
   ]
  },
  {
   "cell_type": "markdown",
   "metadata": {
    "id": "zM8jY2rp13ID"
   },
   "source": [
    "---\n",
    "## All set\n",
    "\n",
    "Please make sure you execute each cell before you submit your file; this is important becuse if your code didn't work on our machine for an unknown reason, it would be better to see the result rather than losing some points or wasting time to contact you to fix this issue. \n",
    "\n",
    "What to submit:\n",
    "\n",
    "* Your Jupyter Notebook file.\n",
    "* Name your file as firstname_lastname_pj_1 . \n",
    "---"
   ]
  }
 ],
 "metadata": {
  "colab": {
   "provenance": []
  },
  "interpreter": {
   "hash": "9be90a182e443121e767cfcadea61fa0eeced8ec62a9bd8ae9861f6c1d839655"
  },
  "kernelspec": {
   "display_name": "Python 3 (ipykernel)",
   "language": "python",
   "name": "python3"
  },
  "language_info": {
   "codemirror_mode": {
    "name": "ipython",
    "version": 3
   },
   "file_extension": ".py",
   "mimetype": "text/x-python",
   "name": "python",
   "nbconvert_exporter": "python",
   "pygments_lexer": "ipython3",
   "version": "3.11.1"
  }
 },
 "nbformat": 4,
 "nbformat_minor": 1
}
