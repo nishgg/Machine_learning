{
 "cells": [
  {
   "cell_type": "markdown",
   "metadata": {
    "id": "hNuQqd2YmV03"
   },
   "source": [
    "<img src=\"../src/packt-banner.png\" alt=\"\">"
   ]
  },
  {
   "cell_type": "markdown",
   "metadata": {
    "id": "NmADGEPKmV04"
   },
   "source": [
    "### Exercise 3: Build a SVM modle for Face Recognition Problem\n",
    "##### (25 points) --> your total will divided by 5 to get 5 points for this exercise.\n",
    "---\n",
    "\n",
    "We will use a very famous dataset, called Labelled Faces in the Wild, which\n",
    "consists of 1288 faces of famous people, and it is available at http://viswww.cs.umass.edu/lfw/lfw-funneled.tgz. \n",
    "\n",
    "However, note that it can be easily imported via scikit-learn from the datasets class.\n",
    "Each image consists of 1850 features: we could proceed by simply using each of them in the model.\n",
    "\n",
    "\n",
    "\n",
    "Fitting a SVM to non-linear data using the Kernel Trick produces non- linear decision boundaries.\n",
    "In particular, we seek to:\n",
    "* Build SVM model with radial basis function (RBF) kernel\n",
    "* Use a grid search cross-validation to explore ran- dom combinations of parameters."
   ]
  },
  {
   "cell_type": "markdown",
   "metadata": {
    "id": "BR8Xn-XAmV05"
   },
   "source": [
    "### Step to do:"
   ]
  },
  {
   "cell_type": "markdown",
   "metadata": {
    "id": "bO4pnQdXmV05"
   },
   "source": [
    "1. Loading the dataf from sklearn.datasets:"
   ]
  },
  {
   "cell_type": "code",
   "execution_count": 2,
   "metadata": {
    "id": "LPWAbXW8mV05"
   },
   "outputs": [],
   "source": [
    "from sklearn.datasets import fetch_lfw_people\n",
    "faces = fetch_lfw_people(min_faces_per_person=60)"
   ]
  },
  {
   "cell_type": "markdown",
   "metadata": {
    "id": "naK6Pwr-mV06"
   },
   "source": [
    "2. Since the data can be accessed from the sklearn.datasets module, you need to explore the dataset. \n",
    "    - (refer to the first 6 steps in Lab_1 could help you)"
   ]
  },
  {
   "cell_type": "markdown",
   "metadata": {
    "id": "ncdk2Q_cmV06"
   },
   "source": [
    "a- Print the field names (that is, the keys to the dictionary) (1 point)"
   ]
  },
  {
   "cell_type": "code",
   "execution_count": 4,
   "metadata": {
    "id": "maDYsJPqmV06"
   },
   "outputs": [
    {
     "name": "stdout",
     "output_type": "stream",
     "text": [
      "['DESCR', 'data', 'images', 'target', 'target_names']\n"
     ]
    }
   ],
   "source": [
    "# What fields are in the dictionary?\n",
    "field_names = [attr for attr in dir(faces)]\n",
    "print(field_names)"
   ]
  },
  {
   "cell_type": "markdown",
   "metadata": {
    "id": "4Ld-9sJJmV07"
   },
   "source": [
    "b- Print the dataset description contained (2 point)"
   ]
  },
  {
   "cell_type": "code",
   "execution_count": 20,
   "metadata": {
    "id": "y1r6mjnZmV07"
   },
   "outputs": [
    {
     "name": "stdout",
     "output_type": "stream",
     "text": [
      ".. _labeled_faces_in_the_wild_dataset:\n",
      "\n",
      "The Labeled Faces in the Wild face recognition dataset\n",
      "------------------------------------------------------\n",
      "\n",
      "This dataset is a collection of JPEG pictures of famous people collected\n",
      "over the internet, all details are available on the official website:\n",
      "\n",
      "    http://vis-www.cs.umass.edu/lfw/\n",
      "\n",
      "Each picture is centered on a single face. The typical task is called\n",
      "Face Verification: given a pair of two pictures, a binary classifier\n",
      "must predict whether the two images are from the same person.\n",
      "\n",
      "An alternative task, Face Recognition or Face Identification is:\n",
      "given the picture of the face of an unknown person, identify the name\n",
      "of the person by referring to a gallery of previously seen pictures of\n",
      "identified persons.\n",
      "\n",
      "Both Face Verification and Face Recognition are tasks that are typically\n",
      "performed on the output of a model trained to perform Face Detection. The\n",
      "most popular model for Face Detection is called Viola-Jones and is\n",
      "implemented in the OpenCV library. The LFW faces were extracted by this\n",
      "face detector from various online websites.\n",
      "\n",
      "**Data Set Characteristics:**\n",
      "\n",
      "    =================   =======================\n",
      "    Classes                                5749\n",
      "    Samples total                         13233\n",
      "    Dimensionality                         5828\n",
      "    Features            real, between 0 and 255\n",
      "    =================   =======================\n",
      "\n",
      "Usage\n",
      "~~~~~\n",
      "\n",
      "``scikit-learn`` provides two loaders that will automatically download,\n",
      "cache, parse the metadata files, decode the jpeg and convert the\n",
      "interesting slices into memmapped numpy arrays. This dataset size is more\n",
      "than 200 MB. The first load typically takes more than a couple of minutes\n",
      "to fully decode the relevant part of the JPEG files into numpy arrays. If\n",
      "the dataset has  been loaded once, the following times the loading times\n",
      "less than 200ms by using a memmapped version memoized on the disk in the\n",
      "``~/scikit_learn_data/lfw_home/`` folder using ``joblib``.\n",
      "\n",
      "The first loader is used for the Face Identification task: a multi-class\n",
      "classification task (hence supervised learning)::\n",
      "\n",
      "  >>> from sklearn.datasets import fetch_lfw_people\n",
      "  >>> lfw_people = fetch_lfw_people(min_faces_per_person=70, resize=0.4)\n",
      "\n",
      "  >>> for name in lfw_people.target_names:\n",
      "  ...     print(name)\n",
      "  ...\n",
      "  Ariel Sharon\n",
      "  Colin Powell\n",
      "  Donald Rumsfeld\n",
      "  George W Bush\n",
      "  Gerhard Schroeder\n",
      "  Hugo Chavez\n",
      "  Tony Blair\n",
      "\n",
      "The default slice is a rectangular shape around the face, removing\n",
      "most of the background::\n",
      "\n",
      "  >>> lfw_people.data.dtype\n",
      "  dtype('float32')\n",
      "\n",
      "  >>> lfw_people.data.shape\n",
      "  (1288, 1850)\n",
      "\n",
      "  >>> lfw_people.images.shape\n",
      "  (1288, 50, 37)\n",
      "\n",
      "Each of the ``1140`` faces is assigned to a single person id in the ``target``\n",
      "array::\n",
      "\n",
      "  >>> lfw_people.target.shape\n",
      "  (1288,)\n",
      "\n",
      "  >>> list(lfw_people.target[:10])\n",
      "  [5, 6, 3, 1, 0, 1, 3, 4, 3, 0]\n",
      "\n",
      "The second loader is typically used for the face verification task: each sample\n",
      "is a pair of two picture belonging or not to the same person::\n",
      "\n",
      "  >>> from sklearn.datasets import fetch_lfw_pairs\n",
      "  >>> lfw_pairs_train = fetch_lfw_pairs(subset='train')\n",
      "\n",
      "  >>> list(lfw_pairs_train.target_names)\n",
      "  ['Different persons', 'Same person']\n",
      "\n",
      "  >>> lfw_pairs_train.pairs.shape\n",
      "  (2200, 2, 62, 47)\n",
      "\n",
      "  >>> lfw_pairs_train.data.shape\n",
      "  (2200, 5828)\n",
      "\n",
      "  >>> lfw_pairs_train.target.shape\n",
      "  (2200,)\n",
      "\n",
      "Both for the :func:`sklearn.datasets.fetch_lfw_people` and\n",
      ":func:`sklearn.datasets.fetch_lfw_pairs` function it is\n",
      "possible to get an additional dimension with the RGB color channels by\n",
      "passing ``color=True``, in that case the shape will be\n",
      "``(2200, 2, 62, 47, 3)``.\n",
      "\n",
      "The :func:`sklearn.datasets.fetch_lfw_pairs` datasets is subdivided into\n",
      "3 subsets: the development ``train`` set, the development ``test`` set and\n",
      "an evaluation ``10_folds`` set meant to compute performance metrics using a\n",
      "10-folds cross validation scheme.\n",
      "\n",
      ".. topic:: References:\n",
      "\n",
      " * `Labeled Faces in the Wild: A Database for Studying Face Recognition\n",
      "   in Unconstrained Environments.\n",
      "   <http://vis-www.cs.umass.edu/lfw/lfw.pdf>`_\n",
      "   Gary B. Huang, Manu Ramesh, Tamara Berg, and Erik Learned-Miller.\n",
      "   University of Massachusetts, Amherst, Technical Report 07-49, October, 2007.\n",
      "\n",
      "\n",
      "Examples\n",
      "~~~~~~~~\n",
      "\n",
      ":ref:`sphx_glr_auto_examples_applications_plot_face_recognition.py`\n",
      "\n"
     ]
    }
   ],
   "source": [
    "# write your code here\n",
    "print(faces.DESCR)"
   ]
  },
  {
   "cell_type": "markdown",
   "metadata": {
    "id": "a8WvKTFOmV07"
   },
   "source": [
    "3. Print the data, its shape, and the target names. ( 3 points)"
   ]
  },
  {
   "cell_type": "code",
   "execution_count": 23,
   "metadata": {
    "id": "KfL6no2FmV07"
   },
   "outputs": [
    {
     "name": "stdout",
     "output_type": "stream",
     "text": [
      "[[0.53464055 0.5254902  0.49673203 ... 0.00653595 0.00653595 0.00261438]\n",
      " [0.28627452 0.20784314 0.2522876  ... 0.96993464 0.9490196  0.9346406 ]\n",
      " [0.31895426 0.39215687 0.275817   ... 0.4261438  0.7908497  0.9555555 ]\n",
      " ...\n",
      " [0.11633987 0.11111111 0.10196079 ... 0.5686274  0.5803922  0.5542484 ]\n",
      " [0.19346406 0.21176471 0.2901961  ... 0.6862745  0.654902   0.5908497 ]\n",
      " [0.12287582 0.09803922 0.10980392 ... 0.12941177 0.1633987  0.29150328]]\n"
     ]
    }
   ],
   "source": [
    "# What does the data look like?\n",
    "print(faces.data)"
   ]
  },
  {
   "cell_type": "code",
   "execution_count": 24,
   "metadata": {
    "id": "Qik3fdoQmV08"
   },
   "outputs": [
    {
     "name": "stdout",
     "output_type": "stream",
     "text": [
      "(1348, 2914)\n"
     ]
    }
   ],
   "source": [
    "# what is the shape of the data?\n",
    "print(faces.data.shape)"
   ]
  },
  {
   "cell_type": "code",
   "execution_count": 26,
   "metadata": {
    "id": "2aPc9uO-mV08"
   },
   "outputs": [
    {
     "name": "stdout",
     "output_type": "stream",
     "text": [
      "['Ariel Sharon' 'Colin Powell' 'Donald Rumsfeld' 'George W Bush'\n",
      " 'Gerhard Schroeder' 'Hugo Chavez' 'Junichiro Koizumi' 'Tony Blair']\n"
     ]
    }
   ],
   "source": [
    "# What is the target names?\n",
    "print(faces.target_names)"
   ]
  },
  {
   "cell_type": "markdown",
   "metadata": {
    "id": "AUDpCWMCmV08"
   },
   "source": [
    "4. Divide the data into features (X) using the faces.data and target (y) using faces.target (2 points)"
   ]
  },
  {
   "cell_type": "code",
   "execution_count": 3,
   "metadata": {
    "id": "06_1FUnMmV08"
   },
   "outputs": [],
   "source": [
    "# Write your code here \n",
    "X = faces.data\n",
    "y = faces.target"
   ]
  },
  {
   "cell_type": "markdown",
   "metadata": {
    "id": "RGzEfPYImV08"
   },
   "source": [
    "5. Splitting the data into training and testing sets. (2 point)\n",
    "\n",
    "We train the model with 70% of the samples and test with the remaining 30%."
   ]
  },
  {
   "cell_type": "code",
   "execution_count": 4,
   "metadata": {
    "id": "izd3Lq1wmV09"
   },
   "outputs": [
    {
     "name": "stdout",
     "output_type": "stream",
     "text": [
      "(943, 2914)\n",
      "(405, 2914)\n",
      "(943,)\n",
      "(405,)\n"
     ]
    }
   ],
   "source": [
    "# Write your code here \n",
    "from sklearn.model_selection import train_test_split\n",
    "X_train, X_test, y_train, y_test = train_test_split(X, y, test_size=0.3, random_state=42)\n",
    "\n",
    "\n",
    "# print the sizes of our training and test set to verify if the splitting has occurred properly.\n",
    "print(X_train.shape)\n",
    "print(X_test.shape)\n",
    "print(y_train.shape)\n",
    "print(y_test.shape)\n"
   ]
  },
  {
   "cell_type": "markdown",
   "metadata": {
    "id": "tDQsoYQBmV09"
   },
   "source": [
    "6. Declare SVM model with kernel='rbf', class_weight='balanced' (2 points)"
   ]
  },
  {
   "cell_type": "code",
   "execution_count": 5,
   "metadata": {
    "id": "aOID8jbUmV09"
   },
   "outputs": [],
   "source": [
    "from sklearn.svm import SVC\n",
    "\n",
    "# write your code here\n",
    "model = SVC(kernel='rbf', class_weight='balanced')"
   ]
  },
  {
   "cell_type": "markdown",
   "metadata": {
    "id": "fB84KulSmV09"
   },
   "source": [
    "7. Use a grid search cross-validationwith 10 CV to explore random combinations of parameters. (3 points) \n",
    "    - we will adjust C, which controls the margin\n",
    "    - and Gamma (γ), which controls the size of the radial basis function kernel, and determine the best model."
   ]
  },
  {
   "cell_type": "code",
   "execution_count": 6,
   "metadata": {},
   "outputs": [
    {
     "data": {
      "text/html": [
       "<style>#sk-container-id-1 {color: black;background-color: white;}#sk-container-id-1 pre{padding: 0;}#sk-container-id-1 div.sk-toggleable {background-color: white;}#sk-container-id-1 label.sk-toggleable__label {cursor: pointer;display: block;width: 100%;margin-bottom: 0;padding: 0.3em;box-sizing: border-box;text-align: center;}#sk-container-id-1 label.sk-toggleable__label-arrow:before {content: \"▸\";float: left;margin-right: 0.25em;color: #696969;}#sk-container-id-1 label.sk-toggleable__label-arrow:hover:before {color: black;}#sk-container-id-1 div.sk-estimator:hover label.sk-toggleable__label-arrow:before {color: black;}#sk-container-id-1 div.sk-toggleable__content {max-height: 0;max-width: 0;overflow: hidden;text-align: left;background-color: #f0f8ff;}#sk-container-id-1 div.sk-toggleable__content pre {margin: 0.2em;color: black;border-radius: 0.25em;background-color: #f0f8ff;}#sk-container-id-1 input.sk-toggleable__control:checked~div.sk-toggleable__content {max-height: 200px;max-width: 100%;overflow: auto;}#sk-container-id-1 input.sk-toggleable__control:checked~label.sk-toggleable__label-arrow:before {content: \"▾\";}#sk-container-id-1 div.sk-estimator input.sk-toggleable__control:checked~label.sk-toggleable__label {background-color: #d4ebff;}#sk-container-id-1 div.sk-label input.sk-toggleable__control:checked~label.sk-toggleable__label {background-color: #d4ebff;}#sk-container-id-1 input.sk-hidden--visually {border: 0;clip: rect(1px 1px 1px 1px);clip: rect(1px, 1px, 1px, 1px);height: 1px;margin: -1px;overflow: hidden;padding: 0;position: absolute;width: 1px;}#sk-container-id-1 div.sk-estimator {font-family: monospace;background-color: #f0f8ff;border: 1px dotted black;border-radius: 0.25em;box-sizing: border-box;margin-bottom: 0.5em;}#sk-container-id-1 div.sk-estimator:hover {background-color: #d4ebff;}#sk-container-id-1 div.sk-parallel-item::after {content: \"\";width: 100%;border-bottom: 1px solid gray;flex-grow: 1;}#sk-container-id-1 div.sk-label:hover label.sk-toggleable__label {background-color: #d4ebff;}#sk-container-id-1 div.sk-serial::before {content: \"\";position: absolute;border-left: 1px solid gray;box-sizing: border-box;top: 0;bottom: 0;left: 50%;z-index: 0;}#sk-container-id-1 div.sk-serial {display: flex;flex-direction: column;align-items: center;background-color: white;padding-right: 0.2em;padding-left: 0.2em;position: relative;}#sk-container-id-1 div.sk-item {position: relative;z-index: 1;}#sk-container-id-1 div.sk-parallel {display: flex;align-items: stretch;justify-content: center;background-color: white;position: relative;}#sk-container-id-1 div.sk-item::before, #sk-container-id-1 div.sk-parallel-item::before {content: \"\";position: absolute;border-left: 1px solid gray;box-sizing: border-box;top: 0;bottom: 0;left: 50%;z-index: -1;}#sk-container-id-1 div.sk-parallel-item {display: flex;flex-direction: column;z-index: 1;position: relative;background-color: white;}#sk-container-id-1 div.sk-parallel-item:first-child::after {align-self: flex-end;width: 50%;}#sk-container-id-1 div.sk-parallel-item:last-child::after {align-self: flex-start;width: 50%;}#sk-container-id-1 div.sk-parallel-item:only-child::after {width: 0;}#sk-container-id-1 div.sk-dashed-wrapped {border: 1px dashed gray;margin: 0 0.4em 0.5em 0.4em;box-sizing: border-box;padding-bottom: 0.4em;background-color: white;}#sk-container-id-1 div.sk-label label {font-family: monospace;font-weight: bold;display: inline-block;line-height: 1.2em;}#sk-container-id-1 div.sk-label-container {text-align: center;}#sk-container-id-1 div.sk-container {/* jupyter's `normalize.less` sets `[hidden] { display: none; }` but bootstrap.min.css set `[hidden] { display: none !important; }` so we also need the `!important` here to be able to override the default hidden behavior on the sphinx rendered scikit-learn.org. See: https://github.com/scikit-learn/scikit-learn/issues/21755 */display: inline-block !important;position: relative;}#sk-container-id-1 div.sk-text-repr-fallback {display: none;}</style><div id=\"sk-container-id-1\" class=\"sk-top-container\"><div class=\"sk-text-repr-fallback\"><pre>GridSearchCV(cv=10, estimator=SVC(class_weight=&#x27;balanced&#x27;),\n",
       "             param_grid={&#x27;C&#x27;: [1, 5, 10, 50],\n",
       "                         &#x27;gamma&#x27;: [0.001, 0.0005, 0.01, 0.1]})</pre><b>In a Jupyter environment, please rerun this cell to show the HTML representation or trust the notebook. <br />On GitHub, the HTML representation is unable to render, please try loading this page with nbviewer.org.</b></div><div class=\"sk-container\" hidden><div class=\"sk-item sk-dashed-wrapped\"><div class=\"sk-label-container\"><div class=\"sk-label sk-toggleable\"><input class=\"sk-toggleable__control sk-hidden--visually\" id=\"sk-estimator-id-1\" type=\"checkbox\" ><label for=\"sk-estimator-id-1\" class=\"sk-toggleable__label sk-toggleable__label-arrow\">GridSearchCV</label><div class=\"sk-toggleable__content\"><pre>GridSearchCV(cv=10, estimator=SVC(class_weight=&#x27;balanced&#x27;),\n",
       "             param_grid={&#x27;C&#x27;: [1, 5, 10, 50],\n",
       "                         &#x27;gamma&#x27;: [0.001, 0.0005, 0.01, 0.1]})</pre></div></div></div><div class=\"sk-parallel\"><div class=\"sk-parallel-item\"><div class=\"sk-item\"><div class=\"sk-label-container\"><div class=\"sk-label sk-toggleable\"><input class=\"sk-toggleable__control sk-hidden--visually\" id=\"sk-estimator-id-2\" type=\"checkbox\" ><label for=\"sk-estimator-id-2\" class=\"sk-toggleable__label sk-toggleable__label-arrow\">estimator: SVC</label><div class=\"sk-toggleable__content\"><pre>SVC(class_weight=&#x27;balanced&#x27;)</pre></div></div></div><div class=\"sk-serial\"><div class=\"sk-item\"><div class=\"sk-estimator sk-toggleable\"><input class=\"sk-toggleable__control sk-hidden--visually\" id=\"sk-estimator-id-3\" type=\"checkbox\" ><label for=\"sk-estimator-id-3\" class=\"sk-toggleable__label sk-toggleable__label-arrow\">SVC</label><div class=\"sk-toggleable__content\"><pre>SVC(class_weight=&#x27;balanced&#x27;)</pre></div></div></div></div></div></div></div></div></div></div>"
      ],
      "text/plain": [
       "GridSearchCV(cv=10, estimator=SVC(class_weight='balanced'),\n",
       "             param_grid={'C': [1, 5, 10, 50],\n",
       "                         'gamma': [0.001, 0.0005, 0.01, 0.1]})"
      ]
     },
     "execution_count": 6,
     "metadata": {},
     "output_type": "execute_result"
    }
   ],
   "source": [
    "from sklearn.model_selection import GridSearchCV\n",
    "param_grid = {'C': [1,5,10,50],'gamma': [0.001,0.0005,0.01,0.1]}\n",
    "# write your code here for GridSearchCV:\n",
    "grid_search = GridSearchCV(estimator=model, param_grid=param_grid, cv=10)\n",
    "grid_search.fit(X_train, y_train)"
   ]
  },
  {
   "cell_type": "markdown",
   "metadata": {
    "id": "Zo7MRALVmV0-"
   },
   "source": [
    "8. predict on the test set, using the best model from above step (best_estimator_) (5 points)"
   ]
  },
  {
   "cell_type": "code",
   "execution_count": 8,
   "metadata": {
    "id": "CE6qWljxmV0-"
   },
   "outputs": [
    {
     "name": "stdout",
     "output_type": "stream",
     "text": [
      "Best estimator: SVC(C=50, class_weight='balanced', gamma=0.001)\n"
     ]
    }
   ],
   "source": [
    "# write your code here\n",
    "best_estimator = grid_search.best_estimator_\n",
    "print(\"Best estimator:\", best_estimator)\n",
    "best_estimator.fit(X_train,y_train)\n",
    "y_pred = best_estimator.predict(X_test)"
   ]
  },
  {
   "cell_type": "markdown",
   "metadata": {
    "id": "I3A5gH2BmV0-"
   },
   "source": [
    "9. Model performances:\n",
    "Run the following code to print the model evaluation metric"
   ]
  },
  {
   "cell_type": "code",
   "execution_count": 9,
   "metadata": {
    "id": "1H51D6V2mV0-"
   },
   "outputs": [
    {
     "name": "stdout",
     "output_type": "stream",
     "text": [
      "                   precision    recall  f1-score   support\n",
      "\n",
      "     Ariel Sharon       0.59      0.76      0.67        17\n",
      "     Colin Powell       0.80      0.83      0.81        84\n",
      "  Donald Rumsfeld       0.67      0.81      0.73        36\n",
      "    George W Bush       0.90      0.86      0.88       146\n",
      "Gerhard Schroeder       0.69      0.71      0.70        28\n",
      "      Hugo Chavez       1.00      0.63      0.77        27\n",
      "Junichiro Koizumi       0.89      1.00      0.94        16\n",
      "       Tony Blair       0.82      0.78      0.80        51\n",
      "\n",
      "         accuracy                           0.81       405\n",
      "        macro avg       0.79      0.80      0.79       405\n",
      "     weighted avg       0.83      0.81      0.82       405\n",
      "\n"
     ]
    }
   ],
   "source": [
    "from sklearn.metrics import classification_report\n",
    "labels = list(faces.target_names)\n",
    "print(classification_report(y_test,y_pred,target_names=labels))"
   ]
  },
  {
   "cell_type": "markdown",
   "metadata": {
    "id": "xvhPBpEUmV0-"
   },
   "source": [
    "10. What do you observe about the model performances? (5 points)\n",
    "\n",
    "#### Write your answer here\n",
    "\n",
    "\n"
   ]
  },
  {
   "cell_type": "markdown",
   "metadata": {},
   "source": [
    "The model has an accuracy rate of 0.81. \n",
    "The f-1 score (which is a good indicator for correctly predicted positive for a dataset) shows some deviation for every target.\n",
    "As we can see model obtains a 0.67 score for Ariel Sharon, which is not very impressive, this could be due to small sample which we can see from the support field.\n",
    "On the other hand model predicted Junichiro's data accurately 0.94 times which is very decent and on top it had even less data to work with, so the reason for the discrepency between the score for these targets could be that the data for Ariel was scattered much more than any other target causing model to miss much more often."
   ]
  },
  {
   "cell_type": "code",
   "execution_count": null,
   "metadata": {},
   "outputs": [],
   "source": []
  }
 ],
 "metadata": {
  "anaconda-cloud": {},
  "colab": {
   "provenance": []
  },
  "interpreter": {
   "hash": "9be90a182e443121e767cfcadea61fa0eeced8ec62a9bd8ae9861f6c1d839655"
  },
  "kernelspec": {
   "display_name": "Python 3 (ipykernel)",
   "language": "python",
   "name": "python3"
  },
  "language_info": {
   "codemirror_mode": {
    "name": "ipython",
    "version": 3
   },
   "file_extension": ".py",
   "mimetype": "text/x-python",
   "name": "python",
   "nbconvert_exporter": "python",
   "pygments_lexer": "ipython3",
   "version": "3.11.1"
  }
 },
 "nbformat": 4,
 "nbformat_minor": 1
}
